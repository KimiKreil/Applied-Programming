{
 "cells": [
  {
   "cell_type": "code",
   "execution_count": 1,
   "id": "7b2032b9",
   "metadata": {
    "ExecuteTime": {
     "end_time": "2022-06-24T19:10:10.964979Z",
     "start_time": "2022-06-24T19:10:09.667941Z"
    }
   },
   "outputs": [],
   "source": [
    "import numpy as np"
   ]
  },
  {
   "cell_type": "code",
   "execution_count": 9,
   "id": "c29bb647",
   "metadata": {
    "ExecuteTime": {
     "end_time": "2022-06-24T19:37:55.507950Z",
     "start_time": "2022-06-24T19:37:55.470783Z"
    }
   },
   "outputs": [],
   "source": [
    "true = np.genfromtxt('dataY.dat', dtype=None, delimiter='\\n')\n",
    "kimi = np.genfromtxt('NN.dat', dtype=None, delimiter='\\n')"
   ]
  },
  {
   "cell_type": "code",
   "execution_count": 10,
   "id": "848dd775",
   "metadata": {
    "ExecuteTime": {
     "end_time": "2022-06-24T19:37:58.576594Z",
     "start_time": "2022-06-24T19:37:58.559983Z"
    }
   },
   "outputs": [
    {
     "data": {
      "text/plain": [
       "array([ 1, -1,  1, -1,  1, -1,  1, -1,  1, -1,  1, -1,  1, -1,  1, -1,  1,\n",
       "       -1,  1, -1,  1, -1,  1, -1,  1, -1,  1, -1,  1, -1,  1, -1,  1, -1,\n",
       "        1, -1,  1, -1,  1, -1,  1, -1,  1, -1,  1, -1,  1, -1,  1, -1,  1,\n",
       "       -1,  1, -1,  1, -1,  1, -1,  1, -1,  1, -1,  1, -1,  1, -1,  1, -1,\n",
       "        1, -1,  1, -1,  1, -1,  1, -1,  1, -1,  1, -1,  1, -1,  1, -1,  1,\n",
       "       -1,  1, -1,  1, -1,  1, -1,  1, -1,  1, -1,  1,  1, -1,  1, -1,  1,\n",
       "       -1,  1, -1,  1, -1,  1, -1,  1, -1,  1, -1,  1, -1,  1, -1,  1, -1,\n",
       "        1, -1,  1, -1,  1, -1,  1, -1,  1, -1,  1, -1,  1, -1,  1, -1,  1,\n",
       "       -1,  1, -1,  1, -1,  1, -1,  1, -1,  1, -1,  1, -1,  1, -1,  1, -1,\n",
       "        1, -1,  1, -1,  1, -1,  1, -1,  1, -1,  1, -1,  1, -1,  1, -1,  1,\n",
       "       -1,  1, -1,  1, -1,  1, -1,  1, -1,  1, -1,  1, -1,  1, -1,  1, -1,\n",
       "        1, -1,  1, -1,  1, -1,  1, -1,  1, -1,  1, -1,  1])"
      ]
     },
     "execution_count": 10,
     "metadata": {},
     "output_type": "execute_result"
    }
   ],
   "source": [
    "true"
   ]
  },
  {
   "cell_type": "code",
   "execution_count": 11,
   "id": "a284728d",
   "metadata": {
    "ExecuteTime": {
     "end_time": "2022-06-24T19:38:01.406454Z",
     "start_time": "2022-06-24T19:38:01.393320Z"
    }
   },
   "outputs": [
    {
     "data": {
      "text/plain": [
       "array([ 1,  1,  1,  1,  1, -1,  1, -1,  1, -1,  1,  1,  1,  1,  1, -1,  1,\n",
       "       -1,  1, -1,  1, -1,  1, -1,  1,  1,  1, -1,  1, -1,  1, -1,  1,  1,\n",
       "        1,  1,  1, -1,  1,  1,  1, -1,  1,  1,  1, -1,  1, -1,  1, -1,  1,\n",
       "       -1,  1, -1,  1, -1,  1, -1,  1, -1,  1, -1,  1,  1,  1,  1,  1,  1,\n",
       "        1,  1,  1, -1,  1, -1,  1,  1,  1,  1,  1, -1,  1,  1,  1,  1,  1,\n",
       "        1,  1,  1,  1,  1,  1, -1,  1, -1,  1,  1,  1,  1, -1,  1,  1,  1,\n",
       "       -1,  1, -1,  1, -1,  1, -1,  1, -1,  1, -1,  1, -1,  1,  1,  1, -1,\n",
       "        1,  1,  1, -1,  1, -1,  1, -1,  1, -1,  1,  1,  1, -1,  1, -1,  1,\n",
       "       -1,  1, -1,  1, -1,  1,  1, -1,  1, -1, -1,  1,  1,  1, -1,  1, -1,\n",
       "        1, -1,  1, -1,  1, -1,  1, -1,  1, -1,  1,  1,  1, -1,  1, -1,  1,\n",
       "       -1,  1, -1,  1, -1,  1, -1,  1, -1,  1, -1,  1, -1,  1,  1,  1, -1,\n",
       "        1, -1,  1, -1,  1, -1,  1, -1,  1, -1,  1, -1,  1])"
      ]
     },
     "execution_count": 11,
     "metadata": {},
     "output_type": "execute_result"
    }
   ],
   "source": [
    "kimi"
   ]
  },
  {
   "cell_type": "code",
   "execution_count": 14,
   "id": "7f85cf99",
   "metadata": {
    "ExecuteTime": {
     "end_time": "2022-06-24T19:38:54.736512Z",
     "start_time": "2022-06-24T19:38:54.721735Z"
    }
   },
   "outputs": [
    {
     "data": {
      "text/plain": [
       "(array([-2,  0,  2]), array([  2, 168,  30]))"
      ]
     },
     "execution_count": 14,
     "metadata": {},
     "output_type": "execute_result"
    }
   ],
   "source": [
    "np.unique(kimi-true, return_counts=True)"
   ]
  },
  {
   "cell_type": "code",
   "execution_count": 16,
   "id": "a6338a93",
   "metadata": {
    "ExecuteTime": {
     "end_time": "2022-06-24T19:39:51.647892Z",
     "start_time": "2022-06-24T19:39:51.640568Z"
    }
   },
   "outputs": [
    {
     "data": {
      "text/plain": [
       "0.8095238095238095"
      ]
     },
     "execution_count": 16,
     "metadata": {},
     "output_type": "execute_result"
    }
   ],
   "source": [
    "1-32/168"
   ]
  },
  {
   "cell_type": "code",
   "execution_count": null,
   "id": "36f570b3",
   "metadata": {},
   "outputs": [],
   "source": []
  }
 ],
 "metadata": {
  "kernelspec": {
   "display_name": "Python 3",
   "language": "python",
   "name": "python3"
  },
  "language_info": {
   "codemirror_mode": {
    "name": "ipython",
    "version": 3
   },
   "file_extension": ".py",
   "mimetype": "text/x-python",
   "name": "python",
   "nbconvert_exporter": "python",
   "pygments_lexer": "ipython3",
   "version": "3.6.13"
  },
  "toc": {
   "base_numbering": 1,
   "nav_menu": {},
   "number_sections": true,
   "sideBar": true,
   "skip_h1_title": false,
   "title_cell": "Table of Contents",
   "title_sidebar": "Contents",
   "toc_cell": false,
   "toc_position": {},
   "toc_section_display": true,
   "toc_window_display": true
  }
 },
 "nbformat": 4,
 "nbformat_minor": 5
}
